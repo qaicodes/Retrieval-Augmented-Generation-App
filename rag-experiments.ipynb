{
 "cells": [
  {
   "cell_type": "code",
   "execution_count": 2,
   "metadata": {},
   "outputs": [],
   "source": [
    "import os\n",
    "from dotenv import load_dotenv\n",
    "import openai\n",
    "from langchain.embeddings.openai import OpenAIEmbeddings\n",
    "from langchain.embeddings import HuggingFaceEmbeddings\n",
    "from langchain.vectorstores import Milvus\n",
    "from langchain.text_splitter import RecursiveCharacterTextSplitter\n",
    "from langchain.document_loaders import DirectoryLoader\n",
    "from langchain.chains.qa_with_sources import load_qa_with_sources_chain\n",
    "from langchain.llms import OpenAI\n",
    "from langchain.chat_models import ChatOpenAI\n",
    "from langchain.chains import RetrievalQA"
   ]
  },
  {
   "cell_type": "code",
   "execution_count": 5,
   "metadata": {},
   "outputs": [],
   "source": [
    "documents = DirectoryLoader(\"./WikiData/\")\n",
    "documents = documents.load()"
   ]
  },
  {
   "cell_type": "code",
   "execution_count": 6,
   "metadata": {},
   "outputs": [
    {
     "name": "stdout",
     "output_type": "stream",
     "text": [
      "101\n"
     ]
    }
   ],
   "source": [
    "text_splitter = RecursiveCharacterTextSplitter(chunk_size=1000, chunk_overlap=100)\n",
    "doc_splits = text_splitter.split_documents(documents)\n",
    "print(len(doc_splits))"
   ]
  },
  {
   "cell_type": "code",
   "execution_count": 7,
   "metadata": {},
   "outputs": [
    {
     "name": "stderr",
     "output_type": "stream",
     "text": [
      "c:\\Users\\zzaib\\Desktop\\vs-code-projects\\Retrieval-Augmented-Generation-App\\rag-env\\Lib\\site-packages\\tqdm\\auto.py:21: TqdmWarning: IProgress not found. Please update jupyter and ipywidgets. See https://ipywidgets.readthedocs.io/en/stable/user_install.html\n",
      "  from .autonotebook import tqdm as notebook_tqdm\n"
     ]
    }
   ],
   "source": [
    "embed_model = HuggingFaceEmbeddings(model_name=\"sentence-transformers/all-MiniLM-L12-v2\")"
   ]
  },
  {
   "cell_type": "code",
   "execution_count": 8,
   "metadata": {},
   "outputs": [],
   "source": [
    "# Set up a vector store used to save the vector embeddings. Here we use Milvus as the vector store.\n",
    "vector_store = Milvus.from_documents(\n",
    "    doc_splits,\n",
    "    embedding=embed_model,\n",
    "    connection_args={\"host\": \"localhost\", \"port\": 19530}, collection_name=\"wikiQA\"\n",
    ")"
   ]
  },
  {
   "cell_type": "code",
   "execution_count": 9,
   "metadata": {},
   "outputs": [
    {
     "name": "stdout",
     "output_type": "stream",
     "text": [
      "[Document(page_content='early scripts.The writers also opened up on their collaborative process and how their form of storytelling evolved with the show. According to writer George Mastras,', metadata={'source': 'WikiData\\\\Breaking Bad.txt'}), Document(page_content='=== Main characters === Bryan Cranston as Walter White, a high-school chemistry teacher who, shortly after his 50th birthday, is diagnosed with Stage III lung cancer and turns to making meth to secure his family\\'s finances. As his shady business progresses, Walter gains a notorious reputation under the alias of \"Heisenberg\". Cranston stated that, though he enjoyed doing comedy, he decided he ... should really focus on doing something else. But I think any good drama worth its weight always has a sprinkling of comedy in it, because you can ease the tension to an audience when it\\'s necessary, and then build it back up again. Walt White has no clue he\\'s occasionally funny, but as an actor, I recognize when there are comedic moments and opportunities. Anna Gunn as Skyler White, Walter\\'s wife who was pregnant with their second child before his diagnosis and who becomes increasingly suspicious of her husband after he begins behaving in unfamiliar ways. Gunn sees Skyler as \"grounded, tough,', metadata={'source': 'WikiData\\\\Breaking Bad.txt'}), Document(page_content='They offer [Walter White] everything he needs. At the end of that hour he says, \"Thank you, no,\" and he goes back to Jesse Pinkman and says, \"Let\\'s cook.\" And that was where the character truly got interesting for me. This guy\\'s got some serious pride issues. The critically acclaimed episode \"Ozymandias\" references the Percy Bysshe Shelley poem of the same name, which describes the crumbling legacy of an overly prideful king. The episode draws parallels to the poem, as both antiheroes are left with little to show for their empire-building efforts. Austin Gill of Xavier University stated the episode \"evokes the tyrannical aspirations of invincibility and arrogance of Ozymandias himself as represented in Shelley\\'s poem\". Douglas Eric Rasmussen of the University of Saskatchewan argued that the \"concept of hubris and being punished for grandiose projects that serve an individual\\'s egotism are central aspects of each work\". Hank\\'s death marks the beginning of a shift where it becomes', metadata={'source': 'WikiData\\\\Breaking Bad.txt'}), Document(page_content='are central aspects of each work\". Hank\\'s death marks the beginning of a shift where it becomes increasingly difficult for Walt to continue to insist that he cooks meth for the sake of his family\\'s well-being. By the series finale, Walt finally admits to Skyler that he became Heisenberg for his own ego: \"I did it for me. I liked it. I was good at it.\"', metadata={'source': 'WikiData\\\\Breaking Bad.txt'})]\n"
     ]
    }
   ],
   "source": [
    "query = \"Who is Hisenberg?\"\n",
    "docs = vector_store.similarity_search(query)\n",
    "\n",
    "print(docs)"
   ]
  },
  {
   "cell_type": "code",
   "execution_count": 18,
   "metadata": {},
   "outputs": [],
   "source": [
    "chain = load_qa_with_sources_chain(OpenAI(temperature=0), chain_type=\"map_reduce\", return_intermediate_steps=True)\n",
    "query = \"Who is Hisenberg?\"\n",
    "answer = chain({\"input_documents\": docs, \"question\": query}, return_only_outputs=False)"
   ]
  },
  {
   "cell_type": "code",
   "execution_count": 21,
   "metadata": {},
   "outputs": [
    {
     "data": {
      "text/plain": [
       "' Heisenberg is an alias used by the character Walter White in the TV show \"Breaking Bad\".\\nSOURCES: WikiData\\\\Breaking Bad.txt'"
      ]
     },
     "execution_count": 21,
     "metadata": {},
     "output_type": "execute_result"
    }
   ],
   "source": [
    "answer['output_text']"
   ]
  },
  {
   "cell_type": "code",
   "execution_count": 9,
   "metadata": {},
   "outputs": [],
   "source": [
    "# Build a QA chain\n",
    "qa_chain = RetrievalQA.from_chain_type(\n",
    "    llm=ChatOpenAI(model_name=\"gpt-3.5-turbo\", temperature=0),\n",
    "    chain_type=\"stuff\",\n",
    "    retriever=vector_store.as_retriever(),\n",
    ")"
   ]
  },
  {
   "cell_type": "code",
   "execution_count": 17,
   "metadata": {},
   "outputs": [
    {
     "data": {
      "text/plain": [
       "\"Jesse's girlfriend, Jane, died from choking on her own vomit. Walt, who was present at the time, did not intervene to save her.\""
      ]
     },
     "execution_count": 17,
     "metadata": {},
     "output_type": "execute_result"
    }
   ],
   "source": [
    "# Ask a question!\n",
    "query = \"How did Jesse's girlfriend die?\"\n",
    "qa_chain.run(query)"
   ]
  },
  {
   "cell_type": "code",
   "execution_count": null,
   "metadata": {},
   "outputs": [],
   "source": []
  }
 ],
 "metadata": {
  "kernelspec": {
   "display_name": "rag-env",
   "language": "python",
   "name": "python3"
  },
  "language_info": {
   "codemirror_mode": {
    "name": "ipython",
    "version": 3
   },
   "file_extension": ".py",
   "mimetype": "text/x-python",
   "name": "python",
   "nbconvert_exporter": "python",
   "pygments_lexer": "ipython3",
   "version": "3.11.6"
  }
 },
 "nbformat": 4,
 "nbformat_minor": 2
}
